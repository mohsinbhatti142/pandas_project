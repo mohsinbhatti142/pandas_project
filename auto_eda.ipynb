{
 "cells": [
  {
   "cell_type": "markdown",
   "id": "d705a6f5",
   "metadata": {},
   "source": [
    "# Automatic EDA using ydata_profiling"
   ]
  },
  {
   "cell_type": "code",
   "execution_count": 4,
   "id": "981826fe",
   "metadata": {},
   "outputs": [],
   "source": [
    "import pandas as pd\n",
    "import numpy as np\n",
    "import seaborn as sns\n",
    "import matplotlib.pyplot as plt\n",
    "import ydata_profiling as yd"
   ]
  },
  {
   "cell_type": "markdown",
   "id": "1ed33a1c",
   "metadata": {},
   "source": [
    "## load titanic data"
   ]
  },
  {
   "cell_type": "code",
   "execution_count": 5,
   "id": "3f1f4d28",
   "metadata": {},
   "outputs": [],
   "source": [
    "df = sns.load_dataset(\"titanic\")"
   ]
  },
  {
   "cell_type": "code",
   "execution_count": null,
   "id": "48a9ba69",
   "metadata": {},
   "outputs": [
    {
     "name": "stderr",
     "output_type": "stream",
     "text": [
      "100%|██████████| 15/15 [00:00<00:00, 25.21it/s]1<00:00, 10.82it/s, Describe variable: alone]     \n",
      "Summarize dataset: 100%|██████████| 41/41 [00:08<00:00,  4.64it/s, Completed]                 \n",
      "Generate report structure: 100%|██████████| 1/1 [00:04<00:00,  4.58s/it]\n",
      "Render HTML: 100%|██████████| 1/1 [00:03<00:00,  3.59s/it]\n",
      "Export report to file: 100%|██████████| 1/1 [00:00<00:00, 60.25it/s]\n"
     ]
    }
   ],
   "source": [
    "# Create a profile report\n",
    "profile = yd.ProfileReport(df, title=\"Titanic Dataset Profile Report\", explorative=True)\n",
    "# Save the report to an HTML file\n",
    "profile.to_file(\"titanic_profile_report.html\")"
   ]
  },
  {
   "cell_type": "code",
   "execution_count": 10,
   "id": "8089458b",
   "metadata": {},
   "outputs": [],
   "source": [
    "df1 = pd.read_csv(\"Unique Saber Pro Results.csv\")\n"
   ]
  },
  {
   "cell_type": "code",
   "execution_count": 12,
   "id": "36ca47a7",
   "metadata": {},
   "outputs": [
    {
     "name": "stderr",
     "output_type": "stream",
     "text": [
      "100%|██████████| 57/57 [06:38<00:00,  6.99s/it]9<00:09,  1.92s/it, Describe variable: MOD_COMPETEN_CIUDADA_PUNT]     \n",
      "Summarize dataset: 100%|██████████| 323/323 [19:05<00:00,  3.55s/it, Completed]                                                       \n",
      "Generate report structure: 100%|██████████| 1/1 [00:35<00:00, 35.54s/it]\n",
      "Render HTML: 100%|██████████| 1/1 [00:22<00:00, 22.28s/it]\n",
      "Export report to file: 100%|██████████| 1/1 [00:00<00:00,  4.85it/s]\n"
     ]
    }
   ],
   "source": [
    "\n",
    "# Create a profile report of students performance dataset\n",
    "student_performance_profile = yd.ProfileReport(df1, title=\"Student Performance Profile Report\", explorative=True)\n",
    "# Save the report to an HTML file\n",
    "student_performance_profile.to_file(\"student_performance_profile_report.html\")"
   ]
  }
 ],
 "metadata": {
  "kernelspec": {
   "display_name": "Python 3",
   "language": "python",
   "name": "python3"
  },
  "language_info": {
   "codemirror_mode": {
    "name": "ipython",
    "version": 3
   },
   "file_extension": ".py",
   "mimetype": "text/x-python",
   "name": "python",
   "nbconvert_exporter": "python",
   "pygments_lexer": "ipython3",
   "version": "3.11.9"
  }
 },
 "nbformat": 4,
 "nbformat_minor": 5
}
